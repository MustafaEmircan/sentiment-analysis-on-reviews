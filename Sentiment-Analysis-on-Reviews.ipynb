{
 "cells": [
  {
   "metadata": {},
   "cell_type": "markdown",
   "source": "# SENTIMENT ANALYSIS FOR AMAZON REVIEWS",
   "id": "3621a725e479830e"
  },
  {
   "metadata": {},
   "cell_type": "markdown",
   "source": [
    "# BUSINESS PROBLEM\n",
    "**Kozmos, a company focused on producing home textiles and casual wear, aims to increase its sales by analyzing customer reviews and improving product features based on complaints. In line with this goal, sentiment analysis will be applied to the reviews, and the data will be tagged. A classification model will then be built using the tagged data.**"
   ],
   "id": "e423bcc804e30580"
  },
  {
   "metadata": {},
   "cell_type": "markdown",
   "source": [
    "# DATASET STORY\n",
    "**The dataset consists of variables such as reviews related to a specific product group, the review title, the number of stars, and how many people found the review helpful.**"
   ],
   "id": "6b49302cb96cbc0f"
  },
  {
   "metadata": {},
   "cell_type": "markdown",
   "source": [
    "# FEATURES  \n",
    "- Star: Number of stars given to the product  \n",
    "- HelpFul: Number of people who found the review helpful  \n",
    "- Title: Title given to the content of the review, short comment  \n",
    "- Review: The review of the product"
   ],
   "id": "1e69e19b99def8c8"
  },
  {
   "metadata": {},
   "cell_type": "markdown",
   "source": "# IMPORTINGS",
   "id": "3d2b091402529613"
  },
  {
   "cell_type": "code",
   "id": "initial_id",
   "metadata": {
    "collapsed": true,
    "ExecuteTime": {
     "end_time": "2024-10-11T10:03:05.507518Z",
     "start_time": "2024-10-11T10:03:05.499994Z"
    }
   },
   "source": [
    "import pandas as pd\n",
    "import matplotlib.pyplot as plt\n",
    "from wordcloud import WordCloud\n",
    "from nltk.corpus import stopwords\n",
    "from textblob import Word, TextBlob\n",
    "from sklearn.model_selection import cross_val_score, train_test_split\n",
    "from sklearn.feature_extraction.text import TfidfVectorizer, CountVectorizer\n",
    "from sklearn.ensemble import RandomForestClassifier\n",
    "from sklearn.linear_model import LogisticRegression\n",
    "from sklearn.metrics import classification_report\n",
    "from nltk.sentiment import SentimentIntensityAnalyzer\n",
    "from warnings import filterwarnings\n",
    "\n",
    "filterwarnings('ignore')\n",
    "pd.set_option('display.max_columns', None)\n",
    "pd.set_option('display.float_format', lambda x: '%.2f' % x)\n",
    "pd.set_option('display.width', 200)"
   ],
   "outputs": [],
   "execution_count": 127
  },
  {
   "metadata": {
    "ExecuteTime": {
     "end_time": "2024-10-11T06:35:12.870299Z",
     "start_time": "2024-10-11T06:35:12.665Z"
    }
   },
   "cell_type": "code",
   "source": [
    "df = pd.read_excel(\"/Users/mustafaemircan/PycharmProjects/MiuulBootcamp/PROJECTS/NLP PROJECTS/amazon.xlsx\")\n",
    "df.head()"
   ],
   "id": "780a6a7146547a3c",
   "outputs": [
    {
     "data": {
      "text/plain": [
       "   Star  HelpFul                                          Title                                             Review\n",
       "0     5        0                                    looks great                                      Happy with it\n",
       "1     5        0  Pattern did not align between the two panels.  Good quality material however the panels are m...\n",
       "2     5        0               Imagery is stretched. Still fun.  Product was fun for bedroom windows.<br />Imag...\n",
       "3     5        0                 Que se ven elegantes muy finas   Lo unico que me gustaria es que sean un poco ...\n",
       "4     5        0                             Wow great purchase  Great bang for the buck I can't believe the qu..."
      ],
      "text/html": [
       "<div>\n",
       "<style scoped>\n",
       "    .dataframe tbody tr th:only-of-type {\n",
       "        vertical-align: middle;\n",
       "    }\n",
       "\n",
       "    .dataframe tbody tr th {\n",
       "        vertical-align: top;\n",
       "    }\n",
       "\n",
       "    .dataframe thead th {\n",
       "        text-align: right;\n",
       "    }\n",
       "</style>\n",
       "<table border=\"1\" class=\"dataframe\">\n",
       "  <thead>\n",
       "    <tr style=\"text-align: right;\">\n",
       "      <th></th>\n",
       "      <th>Star</th>\n",
       "      <th>HelpFul</th>\n",
       "      <th>Title</th>\n",
       "      <th>Review</th>\n",
       "    </tr>\n",
       "  </thead>\n",
       "  <tbody>\n",
       "    <tr>\n",
       "      <th>0</th>\n",
       "      <td>5</td>\n",
       "      <td>0</td>\n",
       "      <td>looks great</td>\n",
       "      <td>Happy with it</td>\n",
       "    </tr>\n",
       "    <tr>\n",
       "      <th>1</th>\n",
       "      <td>5</td>\n",
       "      <td>0</td>\n",
       "      <td>Pattern did not align between the two panels.</td>\n",
       "      <td>Good quality material however the panels are m...</td>\n",
       "    </tr>\n",
       "    <tr>\n",
       "      <th>2</th>\n",
       "      <td>5</td>\n",
       "      <td>0</td>\n",
       "      <td>Imagery is stretched. Still fun.</td>\n",
       "      <td>Product was fun for bedroom windows.&lt;br /&gt;Imag...</td>\n",
       "    </tr>\n",
       "    <tr>\n",
       "      <th>3</th>\n",
       "      <td>5</td>\n",
       "      <td>0</td>\n",
       "      <td>Que se ven elegantes muy finas</td>\n",
       "      <td>Lo unico que me gustaria es que sean un poco ...</td>\n",
       "    </tr>\n",
       "    <tr>\n",
       "      <th>4</th>\n",
       "      <td>5</td>\n",
       "      <td>0</td>\n",
       "      <td>Wow great purchase</td>\n",
       "      <td>Great bang for the buck I can't believe the qu...</td>\n",
       "    </tr>\n",
       "  </tbody>\n",
       "</table>\n",
       "</div>"
      ]
     },
     "execution_count": 96,
     "metadata": {},
     "output_type": "execute_result"
    }
   ],
   "execution_count": 96
  },
  {
   "metadata": {
    "ExecuteTime": {
     "end_time": "2024-10-11T06:35:13.833461Z",
     "start_time": "2024-10-11T06:35:13.828683Z"
    }
   },
   "cell_type": "code",
   "source": "df[\"HelpFul\"].sort_values(ascending=False).head()",
   "id": "e73f35d57b192c2",
   "outputs": [
    {
     "data": {
      "text/plain": [
       "425    124\n",
       "58      81\n",
       "212     74\n",
       "252     69\n",
       "59      60\n",
       "Name: HelpFul, dtype: int64"
      ]
     },
     "execution_count": 97,
     "metadata": {},
     "output_type": "execute_result"
    }
   ],
   "execution_count": 97
  },
  {
   "metadata": {
    "ExecuteTime": {
     "end_time": "2024-10-11T06:35:14.298027Z",
     "start_time": "2024-10-11T06:35:14.286589Z"
    }
   },
   "cell_type": "code",
   "source": [
    "def check_df(dataframe, head=5):\n",
    "    print(\"##################### Shape #####################\")\n",
    "    print(dataframe.shape)\n",
    "    print(\"##################### Types #####################\")\n",
    "    print(dataframe.dtypes)\n",
    "    print(\"##################### Duplicated Values #####################\")\n",
    "    print(dataframe.duplicated().sum())\n",
    "    print(\"##################### Missing Values #####################\")\n",
    "    print(dataframe.isnull().sum())\n",
    "    print(\"##################### Number of Unique Values #####################\")\n",
    "    print(df.nunique())\n",
    "\n",
    "check_df(df)"
   ],
   "id": "2f7629d6efd188a7",
   "outputs": [
    {
     "name": "stdout",
     "output_type": "stream",
     "text": [
      "##################### Shape #####################\n",
      "(5611, 4)\n",
      "##################### Types #####################\n",
      "Star        int64\n",
      "HelpFul     int64\n",
      "Title      object\n",
      "Review     object\n",
      "dtype: object\n",
      "##################### Duplicated Values #####################\n",
      "63\n",
      "##################### Missing Values #####################\n",
      "Star        0\n",
      "HelpFul     0\n",
      "Title      52\n",
      "Review     18\n",
      "dtype: int64\n",
      "##################### Number of Unique Values #####################\n",
      "Star          5\n",
      "HelpFul      47\n",
      "Title      3846\n",
      "Review     5337\n",
      "dtype: int64\n"
     ]
    }
   ],
   "execution_count": 98
  },
  {
   "metadata": {},
   "cell_type": "markdown",
   "source": "# NORMALIZING CASE FOLDING",
   "id": "e268c2ee3d393aad"
  },
  {
   "metadata": {
    "ExecuteTime": {
     "end_time": "2024-10-11T06:35:14.743018Z",
     "start_time": "2024-10-11T06:35:14.734581Z"
    }
   },
   "cell_type": "code",
   "source": "df[\"Review\"] = df[\"Review\"].str.lower() ",
   "id": "f01fa2ca533f0545",
   "outputs": [],
   "execution_count": 99
  },
  {
   "metadata": {},
   "cell_type": "markdown",
   "source": "# PUNCTUATIONS",
   "id": "e835b25d2d76dfda"
  },
  {
   "metadata": {
    "ExecuteTime": {
     "end_time": "2024-10-11T06:35:15.140554Z",
     "start_time": "2024-10-11T06:35:15.124785Z"
    }
   },
   "cell_type": "code",
   "source": "df[\"Review\"] = df[\"Review\"].str.replace('[^\\w\\s]', ' ', regex=True)",
   "id": "deda908cf151f454",
   "outputs": [],
   "execution_count": 100
  },
  {
   "metadata": {},
   "cell_type": "markdown",
   "source": [
    "# NUMBERS\n",
    "\n"
   ],
   "id": "fcc4bfa2fa53c690"
  },
  {
   "metadata": {
    "ExecuteTime": {
     "end_time": "2024-10-11T06:35:15.555358Z",
     "start_time": "2024-10-11T06:35:15.547796Z"
    }
   },
   "cell_type": "code",
   "source": "df[\"Review\"] = df[\"Review\"].str.replace('\\d', '', regex=True)",
   "id": "ec27fb34796c1927",
   "outputs": [],
   "execution_count": 101
  },
  {
   "metadata": {},
   "cell_type": "markdown",
   "source": "# STOPWORDS\n",
   "id": "fb49983ad8bf382b"
  },
  {
   "metadata": {
    "ExecuteTime": {
     "end_time": "2024-10-11T06:35:16.053850Z",
     "start_time": "2024-10-11T06:35:15.917185Z"
    }
   },
   "cell_type": "code",
   "source": [
    "import nltk\n",
    "nltk.download(\"stopwords\")"
   ],
   "id": "a117b5f2c7fe6c65",
   "outputs": [
    {
     "name": "stderr",
     "output_type": "stream",
     "text": [
      "[nltk_data] Downloading package stopwords to\n",
      "[nltk_data]     /Users/mustafaemircan/nltk_data...\n",
      "[nltk_data]   Package stopwords is already up-to-date!\n"
     ]
    },
    {
     "data": {
      "text/plain": [
       "True"
      ]
     },
     "execution_count": 102,
     "metadata": {},
     "output_type": "execute_result"
    }
   ],
   "execution_count": 102
  },
  {
   "metadata": {
    "ExecuteTime": {
     "end_time": "2024-10-11T06:35:16.419298Z",
     "start_time": "2024-10-11T06:35:16.305828Z"
    }
   },
   "cell_type": "code",
   "source": [
    "sw = stopwords.words(\"english\")\n",
    "\n",
    "df[\"Review\"] = df[\"Review\"].apply(lambda x: \" \".join(x for x in str(x).split() if x not in sw))"
   ],
   "id": "b134a921d79060ad",
   "outputs": [],
   "execution_count": 103
  },
  {
   "metadata": {
    "ExecuteTime": {
     "end_time": "2024-10-11T06:35:16.840341Z",
     "start_time": "2024-10-11T06:35:16.837314Z"
    }
   },
   "cell_type": "code",
   "source": "df[\"Review\"].head()",
   "id": "56f8caafcf3d1876",
   "outputs": [
    {
     "data": {
      "text/plain": [
       "0                                                happy\n",
       "1     good quality material however panels mis matched\n",
       "2    product fun bedroom windows br imagery bit str...\n",
       "3    lo unico que gustaria es que sean un poco mas ...\n",
       "4    great bang buck believe quality material vibra...\n",
       "Name: Review, dtype: object"
      ]
     },
     "execution_count": 104,
     "metadata": {},
     "output_type": "execute_result"
    }
   ],
   "execution_count": 104
  },
  {
   "metadata": {},
   "cell_type": "markdown",
   "source": "# RAREWORDS",
   "id": "b03af400113212f0"
  },
  {
   "metadata": {
    "ExecuteTime": {
     "end_time": "2024-10-11T06:35:17.460169Z",
     "start_time": "2024-10-11T06:35:17.379208Z"
    }
   },
   "cell_type": "code",
   "source": [
    "temp_df = pd.Series(' '.join(df[\"Review\"]).split()).value_counts()[-1000:]\n",
    "df[\"Review\"] = df[\"Review\"].apply(lambda x: \" \".join(x for x in x.split() if x not in temp_df))"
   ],
   "id": "36053f3c8e28dfaa",
   "outputs": [],
   "execution_count": 105
  },
  {
   "metadata": {
    "ExecuteTime": {
     "end_time": "2024-10-11T06:35:17.848727Z",
     "start_time": "2024-10-11T06:35:17.841480Z"
    }
   },
   "cell_type": "code",
   "source": "df[\"Review\"].value_counts().shape",
   "id": "1d3211767ee8a078",
   "outputs": [
    {
     "data": {
      "text/plain": [
       "(5088,)"
      ]
     },
     "execution_count": 106,
     "metadata": {},
     "output_type": "execute_result"
    }
   ],
   "execution_count": 106
  },
  {
   "metadata": {},
   "cell_type": "markdown",
   "source": "# LEMMATIZATION\n",
   "id": "7b8120f516705ef8"
  },
  {
   "metadata": {
    "ExecuteTime": {
     "end_time": "2024-10-11T06:35:18.330235Z",
     "start_time": "2024-10-11T06:35:18.297475Z"
    }
   },
   "cell_type": "code",
   "source": "nltk.download('wordnet')",
   "id": "810ee3a756967b5e",
   "outputs": [
    {
     "name": "stderr",
     "output_type": "stream",
     "text": [
      "[nltk_data] Downloading package wordnet to\n",
      "[nltk_data]     /Users/mustafaemircan/nltk_data...\n",
      "[nltk_data]   Package wordnet is already up-to-date!\n"
     ]
    },
    {
     "data": {
      "text/plain": [
       "True"
      ]
     },
     "execution_count": 107,
     "metadata": {},
     "output_type": "execute_result"
    }
   ],
   "execution_count": 107
  },
  {
   "metadata": {
    "ExecuteTime": {
     "end_time": "2024-10-11T06:35:19.028032Z",
     "start_time": "2024-10-11T06:35:18.814561Z"
    }
   },
   "cell_type": "code",
   "source": "df['Review'] = df['Review'].apply(lambda x: \" \".join([Word(word).lemmatize() for word in x.split()]))",
   "id": "194473a2a571cb33",
   "outputs": [],
   "execution_count": 108
  },
  {
   "metadata": {
    "ExecuteTime": {
     "end_time": "2024-10-11T06:35:19.365492Z",
     "start_time": "2024-10-11T06:35:19.360595Z"
    }
   },
   "cell_type": "code",
   "source": "df[\"Review\"].head()",
   "id": "27b42d1fad1097a3",
   "outputs": [
    {
     "data": {
      "text/plain": [
       "0                                                happy\n",
       "1       good quality material however panel mi matched\n",
       "2    product fun bedroom window br imagery bit stre...\n",
       "3    lo unico que gustaria e que sean un poco ma la...\n",
       "4    great bang buck believe quality material vibra...\n",
       "Name: Review, dtype: object"
      ]
     },
     "execution_count": 109,
     "metadata": {},
     "output_type": "execute_result"
    }
   ],
   "execution_count": 109
  },
  {
   "metadata": {},
   "cell_type": "markdown",
   "source": "# TEXT VISUALIZATION",
   "id": "52c54d83e18a7890"
  },
  {
   "metadata": {
    "ExecuteTime": {
     "end_time": "2024-10-11T06:35:22.665199Z",
     "start_time": "2024-10-11T06:35:20.684443Z"
    }
   },
   "cell_type": "code",
   "source": [
    "tf = df[\"Review\"].apply(lambda x: pd.value_counts(x.split(\" \"))).sum(axis=0).reset_index()\n",
    "\n",
    "tf.columns = [\"words\", \"tf\"]"
   ],
   "id": "5702c238611451ed",
   "outputs": [],
   "execution_count": 110
  },
  {
   "metadata": {
    "ExecuteTime": {
     "end_time": "2024-10-11T06:35:27.691327Z",
     "start_time": "2024-10-11T06:35:27.686337Z"
    }
   },
   "cell_type": "code",
   "source": "tf.head()",
   "id": "258be11de1c7e255",
   "outputs": [
    {
     "data": {
      "text/plain": [
       "      words     tf\n",
       "0     happy 203.00\n",
       "1      good 542.00\n",
       "2   quality 904.00\n",
       "3  material 584.00\n",
       "4   however  83.00"
      ],
      "text/html": [
       "<div>\n",
       "<style scoped>\n",
       "    .dataframe tbody tr th:only-of-type {\n",
       "        vertical-align: middle;\n",
       "    }\n",
       "\n",
       "    .dataframe tbody tr th {\n",
       "        vertical-align: top;\n",
       "    }\n",
       "\n",
       "    .dataframe thead th {\n",
       "        text-align: right;\n",
       "    }\n",
       "</style>\n",
       "<table border=\"1\" class=\"dataframe\">\n",
       "  <thead>\n",
       "    <tr style=\"text-align: right;\">\n",
       "      <th></th>\n",
       "      <th>words</th>\n",
       "      <th>tf</th>\n",
       "    </tr>\n",
       "  </thead>\n",
       "  <tbody>\n",
       "    <tr>\n",
       "      <th>0</th>\n",
       "      <td>happy</td>\n",
       "      <td>203.00</td>\n",
       "    </tr>\n",
       "    <tr>\n",
       "      <th>1</th>\n",
       "      <td>good</td>\n",
       "      <td>542.00</td>\n",
       "    </tr>\n",
       "    <tr>\n",
       "      <th>2</th>\n",
       "      <td>quality</td>\n",
       "      <td>904.00</td>\n",
       "    </tr>\n",
       "    <tr>\n",
       "      <th>3</th>\n",
       "      <td>material</td>\n",
       "      <td>584.00</td>\n",
       "    </tr>\n",
       "    <tr>\n",
       "      <th>4</th>\n",
       "      <td>however</td>\n",
       "      <td>83.00</td>\n",
       "    </tr>\n",
       "  </tbody>\n",
       "</table>\n",
       "</div>"
      ]
     },
     "execution_count": 111,
     "metadata": {},
     "output_type": "execute_result"
    }
   ],
   "execution_count": 111
  },
  {
   "metadata": {
    "ExecuteTime": {
     "end_time": "2024-10-11T06:35:28.425232Z",
     "start_time": "2024-10-11T06:35:28.416714Z"
    }
   },
   "cell_type": "code",
   "source": "tf.sort_values(\"tf\", ascending=False).head()",
   "id": "4fea24d8b5983021",
   "outputs": [
    {
     "data": {
      "text/plain": [
       "       words      tf\n",
       "65   curtain 2630.00\n",
       "42      look 1548.00\n",
       "118     love 1475.00\n",
       "102     room 1155.00\n",
       "162     like 1066.00"
      ],
      "text/html": [
       "<div>\n",
       "<style scoped>\n",
       "    .dataframe tbody tr th:only-of-type {\n",
       "        vertical-align: middle;\n",
       "    }\n",
       "\n",
       "    .dataframe tbody tr th {\n",
       "        vertical-align: top;\n",
       "    }\n",
       "\n",
       "    .dataframe thead th {\n",
       "        text-align: right;\n",
       "    }\n",
       "</style>\n",
       "<table border=\"1\" class=\"dataframe\">\n",
       "  <thead>\n",
       "    <tr style=\"text-align: right;\">\n",
       "      <th></th>\n",
       "      <th>words</th>\n",
       "      <th>tf</th>\n",
       "    </tr>\n",
       "  </thead>\n",
       "  <tbody>\n",
       "    <tr>\n",
       "      <th>65</th>\n",
       "      <td>curtain</td>\n",
       "      <td>2630.00</td>\n",
       "    </tr>\n",
       "    <tr>\n",
       "      <th>42</th>\n",
       "      <td>look</td>\n",
       "      <td>1548.00</td>\n",
       "    </tr>\n",
       "    <tr>\n",
       "      <th>118</th>\n",
       "      <td>love</td>\n",
       "      <td>1475.00</td>\n",
       "    </tr>\n",
       "    <tr>\n",
       "      <th>102</th>\n",
       "      <td>room</td>\n",
       "      <td>1155.00</td>\n",
       "    </tr>\n",
       "    <tr>\n",
       "      <th>162</th>\n",
       "      <td>like</td>\n",
       "      <td>1066.00</td>\n",
       "    </tr>\n",
       "  </tbody>\n",
       "</table>\n",
       "</div>"
      ]
     },
     "execution_count": 112,
     "metadata": {},
     "output_type": "execute_result"
    }
   ],
   "execution_count": 112
  },
  {
   "metadata": {},
   "cell_type": "markdown",
   "source": [
    "# BARPLOT\n",
    "\n"
   ],
   "id": "dad92a30666bae1a"
  },
  {
   "metadata": {
    "ExecuteTime": {
     "end_time": "2024-10-11T06:35:29.228724Z",
     "start_time": "2024-10-11T06:35:29.134478Z"
    }
   },
   "cell_type": "code",
   "source": [
    "tf[tf[\"tf\"] > 500].plot.bar(x=\"words\", y=\"tf\")\n",
    "plt.show()"
   ],
   "id": "6ec9685f417beed3",
   "outputs": [
    {
     "data": {
      "text/plain": [
       "<Figure size 640x480 with 1 Axes>"
      ],
      "image/png": "[encoded data removed]"
     },
     "metadata": {},
     "output_type": "display_data"
    }
   ],
   "execution_count": 113
  },
  {
   "metadata": {},
   "cell_type": "markdown",
   "source": [
    "# WORDCLOUD\n",
    "\n"
   ],
   "id": "8ee937b197d728f5"
  },
  {
   "metadata": {
    "ExecuteTime": {
     "end_time": "2024-10-11T06:35:30.303684Z",
     "start_time": "2024-10-11T06:35:30.297751Z"
    }
   },
   "cell_type": "code",
   "source": "text = \" \".join(i for i in df.Review)",
   "id": "a7b687ec173d8127",
   "outputs": [],
   "execution_count": 114
  },
  {
   "metadata": {
    "ExecuteTime": {
     "end_time": "2024-10-11T06:35:31.011003Z",
     "start_time": "2024-10-11T06:35:30.764827Z"
    }
   },
   "cell_type": "code",
   "source": [
    "wordcloud = WordCloud().generate(text)\n",
    "plt.imshow(wordcloud, interpolation=\"bilinear\")\n",
    "plt.axis(\"off\")\n",
    "plt.show()"
   ],
   "id": "d6e524ae2c269919",
   "outputs": [
    {
     "data": {
      "text/plain": [
       "<Figure size 640x480 with 1 Axes>"
      ],
      "image/png": "[encoded data removed]"
     },
     "metadata": {},
     "output_type": "display_data"
    }
   ],
   "execution_count": 115
  },
  {
   "metadata": {},
   "cell_type": "markdown",
   "source": "# SENTIMENT ANALYSIS",
   "id": "b8c3da3f612383d3"
  },
  {
   "metadata": {
    "ExecuteTime": {
     "end_time": "2024-10-11T06:35:32.135650Z",
     "start_time": "2024-10-11T06:35:32.129855Z"
    }
   },
   "cell_type": "code",
   "source": "sia = SentimentIntensityAnalyzer()",
   "id": "bb4796755135181a",
   "outputs": [],
   "execution_count": 116
  },
  {
   "metadata": {
    "ExecuteTime": {
     "end_time": "2024-10-11T06:35:33.376222Z",
     "start_time": "2024-10-11T06:35:32.603730Z"
    }
   },
   "cell_type": "code",
   "source": [
    "df[\"polarity_score\"] = df[\"Review\"].apply(lambda x: sia.polarity_scores(x)[\"compound\"])\n",
    "df[\"sentiment_label\"] = df[\"Review\"].apply(lambda x: \"pos\" if sia.polarity_scores(x)[\"compound\"] > 0 else \"neg\")"
   ],
   "id": "63bf9271aa6f3f72",
   "outputs": [],
   "execution_count": 117
  },
  {
   "metadata": {
    "ExecuteTime": {
     "end_time": "2024-10-11T06:35:33.384240Z",
     "start_time": "2024-10-11T06:35:33.379590Z"
    }
   },
   "cell_type": "code",
   "source": "df.head()",
   "id": "eccb17b61e8ea8d",
   "outputs": [
    {
     "data": {
      "text/plain": [
       "   Star  HelpFul                                          Title                                             Review  polarity_score sentiment_label\n",
       "0     5        0                                    looks great                                              happy            0.57             pos\n",
       "1     5        0  Pattern did not align between the two panels.     good quality material however panel mi matched            0.44             pos\n",
       "2     5        0               Imagery is stretched. Still fun.  product fun bedroom window br imagery bit stre...            0.85             pos\n",
       "3     5        0                 Que se ven elegantes muy finas  lo unico que gustaria e que sean un poco ma la...            0.00             neg\n",
       "4     5        0                             Wow great purchase  great bang buck believe quality material vibra...            0.90             pos"
      ],
      "text/html": [
       "<div>\n",
       "<style scoped>\n",
       "    .dataframe tbody tr th:only-of-type {\n",
       "        vertical-align: middle;\n",
       "    }\n",
       "\n",
       "    .dataframe tbody tr th {\n",
       "        vertical-align: top;\n",
       "    }\n",
       "\n",
       "    .dataframe thead th {\n",
       "        text-align: right;\n",
       "    }\n",
       "</style>\n",
       "<table border=\"1\" class=\"dataframe\">\n",
       "  <thead>\n",
       "    <tr style=\"text-align: right;\">\n",
       "      <th></th>\n",
       "      <th>Star</th>\n",
       "      <th>HelpFul</th>\n",
       "      <th>Title</th>\n",
       "      <th>Review</th>\n",
       "      <th>polarity_score</th>\n",
       "      <th>sentiment_label</th>\n",
       "    </tr>\n",
       "  </thead>\n",
       "  <tbody>\n",
       "    <tr>\n",
       "      <th>0</th>\n",
       "      <td>5</td>\n",
       "      <td>0</td>\n",
       "      <td>looks great</td>\n",
       "      <td>happy</td>\n",
       "      <td>0.57</td>\n",
       "      <td>pos</td>\n",
       "    </tr>\n",
       "    <tr>\n",
       "      <th>1</th>\n",
       "      <td>5</td>\n",
       "      <td>0</td>\n",
       "      <td>Pattern did not align between the two panels.</td>\n",
       "      <td>good quality material however panel mi matched</td>\n",
       "      <td>0.44</td>\n",
       "      <td>pos</td>\n",
       "    </tr>\n",
       "    <tr>\n",
       "      <th>2</th>\n",
       "      <td>5</td>\n",
       "      <td>0</td>\n",
       "      <td>Imagery is stretched. Still fun.</td>\n",
       "      <td>product fun bedroom window br imagery bit stre...</td>\n",
       "      <td>0.85</td>\n",
       "      <td>pos</td>\n",
       "    </tr>\n",
       "    <tr>\n",
       "      <th>3</th>\n",
       "      <td>5</td>\n",
       "      <td>0</td>\n",
       "      <td>Que se ven elegantes muy finas</td>\n",
       "      <td>lo unico que gustaria e que sean un poco ma la...</td>\n",
       "      <td>0.00</td>\n",
       "      <td>neg</td>\n",
       "    </tr>\n",
       "    <tr>\n",
       "      <th>4</th>\n",
       "      <td>5</td>\n",
       "      <td>0</td>\n",
       "      <td>Wow great purchase</td>\n",
       "      <td>great bang buck believe quality material vibra...</td>\n",
       "      <td>0.90</td>\n",
       "      <td>pos</td>\n",
       "    </tr>\n",
       "  </tbody>\n",
       "</table>\n",
       "</div>"
      ]
     },
     "execution_count": 118,
     "metadata": {},
     "output_type": "execute_result"
    }
   ],
   "execution_count": 118
  },
  {
   "metadata": {
    "ExecuteTime": {
     "end_time": "2024-10-11T06:38:38.551869Z",
     "start_time": "2024-10-11T06:38:38.522828Z"
    }
   },
   "cell_type": "code",
   "source": "filtered_df = df[(df[\"Star\"] > 3) & (df[\"polarity_score\"] < 0)][[\"Star\", \"polarity_score\"]]",
   "id": "ef6d6c920c5f422a",
   "outputs": [
    {
     "data": {
      "text/plain": [
       "      Star  polarity_score\n",
       "3663     5           -0.03\n",
       "3055     5           -0.03\n",
       "3727     5           -0.03\n",
       "3438     5           -0.03\n",
       "1920     4           -0.03\n",
       "5545     5           -0.03\n",
       "5571     5           -0.05\n",
       "4205     5           -0.05\n",
       "539      5           -0.08\n",
       "2924     4           -0.08"
      ],
      "text/html": [
       "<div>\n",
       "<style scoped>\n",
       "    .dataframe tbody tr th:only-of-type {\n",
       "        vertical-align: middle;\n",
       "    }\n",
       "\n",
       "    .dataframe tbody tr th {\n",
       "        vertical-align: top;\n",
       "    }\n",
       "\n",
       "    .dataframe thead th {\n",
       "        text-align: right;\n",
       "    }\n",
       "</style>\n",
       "<table border=\"1\" class=\"dataframe\">\n",
       "  <thead>\n",
       "    <tr style=\"text-align: right;\">\n",
       "      <th></th>\n",
       "      <th>Star</th>\n",
       "      <th>polarity_score</th>\n",
       "    </tr>\n",
       "  </thead>\n",
       "  <tbody>\n",
       "    <tr>\n",
       "      <th>3663</th>\n",
       "      <td>5</td>\n",
       "      <td>-0.03</td>\n",
       "    </tr>\n",
       "    <tr>\n",
       "      <th>3055</th>\n",
       "      <td>5</td>\n",
       "      <td>-0.03</td>\n",
       "    </tr>\n",
       "    <tr>\n",
       "      <th>3727</th>\n",
       "      <td>5</td>\n",
       "      <td>-0.03</td>\n",
       "    </tr>\n",
       "    <tr>\n",
       "      <th>3438</th>\n",
       "      <td>5</td>\n",
       "      <td>-0.03</td>\n",
       "    </tr>\n",
       "    <tr>\n",
       "      <th>1920</th>\n",
       "      <td>4</td>\n",
       "      <td>-0.03</td>\n",
       "    </tr>\n",
       "    <tr>\n",
       "      <th>5545</th>\n",
       "      <td>5</td>\n",
       "      <td>-0.03</td>\n",
       "    </tr>\n",
       "    <tr>\n",
       "      <th>5571</th>\n",
       "      <td>5</td>\n",
       "      <td>-0.05</td>\n",
       "    </tr>\n",
       "    <tr>\n",
       "      <th>4205</th>\n",
       "      <td>5</td>\n",
       "      <td>-0.05</td>\n",
       "    </tr>\n",
       "    <tr>\n",
       "      <th>539</th>\n",
       "      <td>5</td>\n",
       "      <td>-0.08</td>\n",
       "    </tr>\n",
       "    <tr>\n",
       "      <th>2924</th>\n",
       "      <td>4</td>\n",
       "      <td>-0.08</td>\n",
       "    </tr>\n",
       "  </tbody>\n",
       "</table>\n",
       "</div>"
      ]
     },
     "execution_count": 119,
     "metadata": {},
     "output_type": "execute_result"
    }
   ],
   "execution_count": 119
  },
  {
   "metadata": {
    "ExecuteTime": {
     "end_time": "2024-10-11T06:39:01.151928Z",
     "start_time": "2024-10-11T06:39:01.125704Z"
    }
   },
   "cell_type": "code",
   "source": "filtered_df.sort_values(\"polarity_score\").head(10)",
   "id": "d7c0fabe44812d5d",
   "outputs": [
    {
     "data": {
      "text/plain": [
       "      Star  polarity_score\n",
       "4600     5           -0.90\n",
       "4767     4           -0.72\n",
       "5587     5           -0.71\n",
       "4766     4           -0.71\n",
       "5544     4           -0.70\n",
       "3057     4           -0.70\n",
       "2385     5           -0.68\n",
       "644      5           -0.58\n",
       "5226     5           -0.57\n",
       "389      4           -0.54"
      ],
      "text/html": [
       "<div>\n",
       "<style scoped>\n",
       "    .dataframe tbody tr th:only-of-type {\n",
       "        vertical-align: middle;\n",
       "    }\n",
       "\n",
       "    .dataframe tbody tr th {\n",
       "        vertical-align: top;\n",
       "    }\n",
       "\n",
       "    .dataframe thead th {\n",
       "        text-align: right;\n",
       "    }\n",
       "</style>\n",
       "<table border=\"1\" class=\"dataframe\">\n",
       "  <thead>\n",
       "    <tr style=\"text-align: right;\">\n",
       "      <th></th>\n",
       "      <th>Star</th>\n",
       "      <th>polarity_score</th>\n",
       "    </tr>\n",
       "  </thead>\n",
       "  <tbody>\n",
       "    <tr>\n",
       "      <th>4600</th>\n",
       "      <td>5</td>\n",
       "      <td>-0.90</td>\n",
       "    </tr>\n",
       "    <tr>\n",
       "      <th>4767</th>\n",
       "      <td>4</td>\n",
       "      <td>-0.72</td>\n",
       "    </tr>\n",
       "    <tr>\n",
       "      <th>5587</th>\n",
       "      <td>5</td>\n",
       "      <td>-0.71</td>\n",
       "    </tr>\n",
       "    <tr>\n",
       "      <th>4766</th>\n",
       "      <td>4</td>\n",
       "      <td>-0.71</td>\n",
       "    </tr>\n",
       "    <tr>\n",
       "      <th>5544</th>\n",
       "      <td>4</td>\n",
       "      <td>-0.70</td>\n",
       "    </tr>\n",
       "    <tr>\n",
       "      <th>3057</th>\n",
       "      <td>4</td>\n",
       "      <td>-0.70</td>\n",
       "    </tr>\n",
       "    <tr>\n",
       "      <th>2385</th>\n",
       "      <td>5</td>\n",
       "      <td>-0.68</td>\n",
       "    </tr>\n",
       "    <tr>\n",
       "      <th>644</th>\n",
       "      <td>5</td>\n",
       "      <td>-0.58</td>\n",
       "    </tr>\n",
       "    <tr>\n",
       "      <th>5226</th>\n",
       "      <td>5</td>\n",
       "      <td>-0.57</td>\n",
       "    </tr>\n",
       "    <tr>\n",
       "      <th>389</th>\n",
       "      <td>4</td>\n",
       "      <td>-0.54</td>\n",
       "    </tr>\n",
       "  </tbody>\n",
       "</table>\n",
       "</div>"
      ]
     },
     "execution_count": 120,
     "metadata": {},
     "output_type": "execute_result"
    }
   ],
   "execution_count": 120
  },
  {
   "metadata": {
    "ExecuteTime": {
     "end_time": "2024-10-11T06:40:00.630536Z",
     "start_time": "2024-10-11T06:40:00.622556Z"
    }
   },
   "cell_type": "code",
   "source": "df[\"sentiment_label\"].value_counts()",
   "id": "c9fcc136b265842a",
   "outputs": [
    {
     "data": {
      "text/plain": [
       "sentiment_label\n",
       "pos    4831\n",
       "neg     780\n",
       "Name: count, dtype: int64"
      ]
     },
     "execution_count": 121,
     "metadata": {},
     "output_type": "execute_result"
    }
   ],
   "execution_count": 121
  },
  {
   "metadata": {
    "ExecuteTime": {
     "end_time": "2024-10-11T06:42:14.751571Z",
     "start_time": "2024-10-11T06:42:14.726552Z"
    }
   },
   "cell_type": "code",
   "source": "df.groupby(\"sentiment_label\")[\"Star\"].mean()",
   "id": "38a2af889935f420",
   "outputs": [
    {
     "data": {
      "text/plain": [
       "sentiment_label\n",
       "neg   3.38\n",
       "pos   4.57\n",
       "Name: Star, dtype: float64"
      ]
     },
     "execution_count": 123,
     "metadata": {},
     "output_type": "execute_result"
    }
   ],
   "execution_count": 123
  },
  {
   "metadata": {},
   "cell_type": "markdown",
   "source": "# LABEL ENCODING",
   "id": "29b0705414a73ae3"
  },
  {
   "metadata": {
    "ExecuteTime": {
     "end_time": "2024-10-11T06:43:12.136001Z",
     "start_time": "2024-10-11T06:43:12.118502Z"
    }
   },
   "cell_type": "code",
   "source": "df[\"sentiment_label\"] = LabelEncoder().fit_transform(df[\"sentiment_label\"])",
   "id": "bbdce1904e1a4ba1",
   "outputs": [],
   "execution_count": 124
  },
  {
   "metadata": {
    "ExecuteTime": {
     "end_time": "2024-10-11T06:43:14.238527Z",
     "start_time": "2024-10-11T06:43:14.230893Z"
    }
   },
   "cell_type": "code",
   "source": "df.head()",
   "id": "a36b5e25f3896b9",
   "outputs": [
    {
     "data": {
      "text/plain": [
       "   Star  HelpFul                                          Title                                             Review  polarity_score  sentiment_label\n",
       "0     5        0                                    looks great                                              happy            0.57                1\n",
       "1     5        0  Pattern did not align between the two panels.     good quality material however panel mi matched            0.44                1\n",
       "2     5        0               Imagery is stretched. Still fun.  product fun bedroom window br imagery bit stre...            0.85                1\n",
       "3     5        0                 Que se ven elegantes muy finas  lo unico que gustaria e que sean un poco ma la...            0.00                0\n",
       "4     5        0                             Wow great purchase  great bang buck believe quality material vibra...            0.90                1"
      ],
      "text/html": [
       "<div>\n",
       "<style scoped>\n",
       "    .dataframe tbody tr th:only-of-type {\n",
       "        vertical-align: middle;\n",
       "    }\n",
       "\n",
       "    .dataframe tbody tr th {\n",
       "        vertical-align: top;\n",
       "    }\n",
       "\n",
       "    .dataframe thead th {\n",
       "        text-align: right;\n",
       "    }\n",
       "</style>\n",
       "<table border=\"1\" class=\"dataframe\">\n",
       "  <thead>\n",
       "    <tr style=\"text-align: right;\">\n",
       "      <th></th>\n",
       "      <th>Star</th>\n",
       "      <th>HelpFul</th>\n",
       "      <th>Title</th>\n",
       "      <th>Review</th>\n",
       "      <th>polarity_score</th>\n",
       "      <th>sentiment_label</th>\n",
       "    </tr>\n",
       "  </thead>\n",
       "  <tbody>\n",
       "    <tr>\n",
       "      <th>0</th>\n",
       "      <td>5</td>\n",
       "      <td>0</td>\n",
       "      <td>looks great</td>\n",
       "      <td>happy</td>\n",
       "      <td>0.57</td>\n",
       "      <td>1</td>\n",
       "    </tr>\n",
       "    <tr>\n",
       "      <th>1</th>\n",
       "      <td>5</td>\n",
       "      <td>0</td>\n",
       "      <td>Pattern did not align between the two panels.</td>\n",
       "      <td>good quality material however panel mi matched</td>\n",
       "      <td>0.44</td>\n",
       "      <td>1</td>\n",
       "    </tr>\n",
       "    <tr>\n",
       "      <th>2</th>\n",
       "      <td>5</td>\n",
       "      <td>0</td>\n",
       "      <td>Imagery is stretched. Still fun.</td>\n",
       "      <td>product fun bedroom window br imagery bit stre...</td>\n",
       "      <td>0.85</td>\n",
       "      <td>1</td>\n",
       "    </tr>\n",
       "    <tr>\n",
       "      <th>3</th>\n",
       "      <td>5</td>\n",
       "      <td>0</td>\n",
       "      <td>Que se ven elegantes muy finas</td>\n",
       "      <td>lo unico que gustaria e que sean un poco ma la...</td>\n",
       "      <td>0.00</td>\n",
       "      <td>0</td>\n",
       "    </tr>\n",
       "    <tr>\n",
       "      <th>4</th>\n",
       "      <td>5</td>\n",
       "      <td>0</td>\n",
       "      <td>Wow great purchase</td>\n",
       "      <td>great bang buck believe quality material vibra...</td>\n",
       "      <td>0.90</td>\n",
       "      <td>1</td>\n",
       "    </tr>\n",
       "  </tbody>\n",
       "</table>\n",
       "</div>"
      ]
     },
     "execution_count": 125,
     "metadata": {},
     "output_type": "execute_result"
    }
   ],
   "execution_count": 125
  },
  {
   "metadata": {},
   "cell_type": "markdown",
   "source": "# TEST - TRAIN",
   "id": "62c606184b9857bf"
  },
  {
   "metadata": {
    "ExecuteTime": {
     "end_time": "2024-10-11T10:03:45.132952Z",
     "start_time": "2024-10-11T10:03:45.101355Z"
    }
   },
   "cell_type": "code",
   "source": [
    "train_x, test_x, train_y, test_y = train_test_split(df[\"Review\"],\n",
    "                                                     df[\"sentiment_label\"],\n",
    "                                                     random_state=42)"
   ],
   "id": "f4a7c5b63bd07137",
   "outputs": [],
   "execution_count": 128
  },
  {
   "metadata": {
    "ExecuteTime": {
     "end_time": "2024-10-11T10:09:17.419776Z",
     "start_time": "2024-10-11T10:09:17.337398Z"
    }
   },
   "cell_type": "code",
   "source": [
    "# TF-IDF Word Level\n",
    "\n",
    "tf_idf_word_vectorizer = TfidfVectorizer().fit(train_x)\n",
    "x_train_tf_idf_word = tf_idf_word_vectorizer.transform(train_x)\n",
    "x_test_tf_idf_word = tf_idf_word_vectorizer.transform(test_x)"
   ],
   "id": "8a1419edb8c6f1f7",
   "outputs": [],
   "execution_count": 136
  },
  {
   "metadata": {},
   "cell_type": "markdown",
   "source": "# MODELLING",
   "id": "399be4b0b64b3c59"
  },
  {
   "metadata": {},
   "cell_type": "markdown",
   "source": "- LOGISTIC REGRESSION",
   "id": "ed526b24cf9318ee"
  },
  {
   "metadata": {
    "ExecuteTime": {
     "end_time": "2024-10-11T10:11:03.513687Z",
     "start_time": "2024-10-11T10:11:03.352285Z"
    }
   },
   "cell_type": "code",
   "source": "log_model = LogisticRegression().fit(x_train_tf_idf_word, train_y)",
   "id": "d1fab91a3293cd16",
   "outputs": [],
   "execution_count": 137
  },
  {
   "metadata": {
    "ExecuteTime": {
     "end_time": "2024-10-11T10:14:18.027841Z",
     "start_time": "2024-10-11T10:14:18.015608Z"
    }
   },
   "cell_type": "code",
   "source": [
    "y_pred = log_model.predict(x_test_tf_idf_word)\n",
    "print(classification_report(test_y, y_pred))"
   ],
   "id": "eba02b53fd54c9f2",
   "outputs": [
    {
     "name": "stdout",
     "output_type": "stream",
     "text": [
      "              precision    recall  f1-score   support\n",
      "\n",
      "           0       0.97      0.32      0.48       210\n",
      "           1       0.89      1.00      0.94      1193\n",
      "\n",
      "    accuracy                           0.90      1403\n",
      "   macro avg       0.93      0.66      0.71      1403\n",
      "weighted avg       0.90      0.90      0.87      1403\n",
      "\n"
     ]
    }
   ],
   "execution_count": 139
  },
  {
   "metadata": {
    "ExecuteTime": {
     "end_time": "2024-10-11T10:15:57.474950Z",
     "start_time": "2024-10-11T10:15:57.414238Z"
    }
   },
   "cell_type": "code",
   "source": "cross_val_score(log_model, x_test_tf_idf_word, test_y, cv=5).mean()",
   "id": "8108bc8a8d8f106b",
   "outputs": [
    {
     "data": {
      "text/plain": [
       "0.8631520081342146"
      ]
     },
     "execution_count": 140,
     "metadata": {},
     "output_type": "execute_result"
    }
   ],
   "execution_count": 140
  },
  {
   "metadata": {
    "ExecuteTime": {
     "end_time": "2024-10-11T10:22:59.834538Z",
     "start_time": "2024-10-11T10:22:59.787667Z"
    }
   },
   "cell_type": "code",
   "source": [
    "# random example\n",
    "\n",
    "random_review = pd.Series(df[\"Review\"].sample(1).values)\n",
    "new_review = CountVectorizer().fit(train_x).transform(random_review)\n",
    "pred = log_model.predict(new_review)"
   ],
   "id": "21ced0395bfeebc6",
   "outputs": [],
   "execution_count": 141
  },
  {
   "metadata": {
    "ExecuteTime": {
     "end_time": "2024-10-11T10:23:24.575486Z",
     "start_time": "2024-10-11T10:23:24.569374Z"
    }
   },
   "cell_type": "code",
   "source": "print(f'Review:  {random_review[0]} \\n Prediction: {pred}')",
   "id": "8afe545556f9ac75",
   "outputs": [
    {
     "name": "stdout",
     "output_type": "stream",
     "text": [
      "Review:  great product exact pictured happy \n",
      " Prediction: [1]\n"
     ]
    }
   ],
   "execution_count": 143
  },
  {
   "metadata": {},
   "cell_type": "markdown",
   "source": "- RF MODELLING",
   "id": "ce7b08de0986293f"
  },
  {
   "metadata": {
    "ExecuteTime": {
     "end_time": "2024-10-11T10:25:09.752381Z",
     "start_time": "2024-10-11T10:25:09.134385Z"
    }
   },
   "cell_type": "code",
   "source": "rf_model = RandomForestClassifier().fit(x_train_tf_idf_word, train_y)",
   "id": "8f7570ec946f4dad",
   "outputs": [],
   "execution_count": 144
  },
  {
   "metadata": {
    "ExecuteTime": {
     "end_time": "2024-10-11T10:26:18.191905Z",
     "start_time": "2024-10-11T10:26:15.879783Z"
    }
   },
   "cell_type": "code",
   "source": "cross_val_score(rf_model, x_test_tf_idf_word, test_y, cv=5, n_jobs=-1).mean()",
   "id": "1f52e5c7f47fa2d5",
   "outputs": [
    {
     "data": {
      "text/plain": [
       "0.9037747839349264"
      ]
     },
     "execution_count": 145,
     "metadata": {},
     "output_type": "execute_result"
    }
   ],
   "execution_count": 145
  },
  {
   "metadata": {},
   "cell_type": "markdown",
   "source": "# HYPERPARAMETER",
   "id": "ec192d5474b43005"
  },
  {
   "metadata": {
    "ExecuteTime": {
     "end_time": "2024-10-11T10:29:23.076740Z",
     "start_time": "2024-10-11T10:29:23.071395Z"
    }
   },
   "cell_type": "code",
   "source": "rf_model = RandomForestClassifier()",
   "id": "471902af91dca024",
   "outputs": [],
   "execution_count": 149
  },
  {
   "metadata": {
    "ExecuteTime": {
     "end_time": "2024-10-11T10:29:23.565542Z",
     "start_time": "2024-10-11T10:29:23.563741Z"
    }
   },
   "cell_type": "code",
   "source": [
    "rf_params = {\"max_depth\": [8, None],\n",
    "             \"max_features\": [7, \"auto\"],\n",
    "             \"min_samples_split\": [2, 5, 8],\n",
    "             \"n_estimators\": [100, 200]}"
   ],
   "id": "e247326238bd82d",
   "outputs": [],
   "execution_count": 150
  },
  {
   "metadata": {
    "ExecuteTime": {
     "end_time": "2024-10-11T10:29:30.327164Z",
     "start_time": "2024-10-11T10:29:24.001730Z"
    }
   },
   "cell_type": "code",
   "source": [
    "rf_best_grid = GridSearchCV(rf_model,\n",
    "                            rf_params,\n",
    "                            cv=5,\n",
    "                            n_jobs=-1,\n",
    "                            verbose=True).fit(x_test_tf_idf_word, test_y)"
   ],
   "id": "af69451c26615a10",
   "outputs": [
    {
     "name": "stdout",
     "output_type": "stream",
     "text": [
      "Fitting 5 folds for each of 24 candidates, totalling 120 fits\n"
     ]
    }
   ],
   "execution_count": 151
  },
  {
   "metadata": {
    "ExecuteTime": {
     "end_time": "2024-10-11T10:29:37.672765Z",
     "start_time": "2024-10-11T10:29:37.667932Z"
    }
   },
   "cell_type": "code",
   "source": "rf_best_grid.best_params_",
   "id": "3e23940d0af2fe9d",
   "outputs": [
    {
     "data": {
      "text/plain": [
       "{'max_depth': None,\n",
       " 'max_features': 7,\n",
       " 'min_samples_split': 5,\n",
       " 'n_estimators': 100}"
      ]
     },
     "execution_count": 152,
     "metadata": {},
     "output_type": "execute_result"
    }
   ],
   "execution_count": 152
  },
  {
   "metadata": {
    "ExecuteTime": {
     "end_time": "2024-10-11T10:30:17.922200Z",
     "start_time": "2024-10-11T10:30:17.323336Z"
    }
   },
   "cell_type": "code",
   "source": "rf_final = rf_model.set_params(**rf_best_grid.best_params_).fit(x_test_tf_idf_word, test_y)",
   "id": "68d850128cd25161",
   "outputs": [],
   "execution_count": 153
  },
  {
   "metadata": {
    "ExecuteTime": {
     "end_time": "2024-10-11T12:13:03.067327Z",
     "start_time": "2024-10-11T12:13:00.806462Z"
    }
   },
   "cell_type": "code",
   "source": "cross_val_score(rf_final, x_test_tf_idf_word, test_y, cv=5, n_jobs=-1).mean()",
   "id": "18ecc333cda3bc24",
   "outputs": [
    {
     "data": {
      "text/plain": [
       "0.8973589222165735"
      ]
     },
     "execution_count": 156,
     "metadata": {},
     "output_type": "execute_result"
    }
   ],
   "execution_count": 156
  },
  {
   "metadata": {},
   "cell_type": "markdown",
   "source": "# THANKS.",
   "id": "20f2d3b2c1002cfd"
  }
 ],
 "metadata": {
  "kernelspec": {
   "display_name": "Python 3",
   "language": "python",
   "name": "python3"
  },
  "language_info": {
   "codemirror_mode": {
    "name": "ipython",
    "version": 2
   },
   "file_extension": ".py",
   "mimetype": "text/x-python",
   "name": "python",
   "nbconvert_exporter": "python",
   "pygments_lexer": "ipython2",
   "version": "2.7.6"
  }
 },
 "nbformat": 4,
 "nbformat_minor": 5
}
